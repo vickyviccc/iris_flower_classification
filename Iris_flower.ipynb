{
 "cells": [
  {
   "cell_type": "code",
   "execution_count": 12,
   "metadata": {},
   "outputs": [
    {
     "name": "stdout",
     "output_type": "stream",
     "text": [
      "Model accuracy: 1.00\n"
     ]
    }
   ],
   "source": [
    "import pandas as pd\n",
    "from sklearn.model_selection import train_test_split\n",
    "from sklearn.neighbors import KNeighborsClassifier\n",
    "from sklearn.metrics import accuracy_score  # Add this line\n",
    "\n",
    "# Correct file path based on your directory\n",
    "file_path = 'C:/Users/ViktoriaStutter/Documents/Github/iris_flower_classification/iris_flower_classification/irisdata.txt'\n",
    "\n",
    "# Try loading the dataset (adjust separator if needed)\n",
    "df = pd.read_csv(file_path, sep=',', header=None, names=['sepal_length', 'sepal_width', 'petal_length', 'petal_width', 'species'])\n",
    "\n",
    "\n",
    "# Assuming you have already loaded your dataset\n",
    "X = df.drop(columns=['species'])  # Replace 'species' with the actual column name for labels\n",
    "y = df['species']\n",
    "\n",
    "# Split the data into training and testing sets\n",
    "X_train, X_test, y_train, y_test = train_test_split(X, y, test_size=0.2, random_state=42)\n",
    "\n",
    "# Initialize the KNN classifier\n",
    "knn = KNeighborsClassifier(n_neighbors=3)\n",
    "\n",
    "# Fit the classifier on the training data\n",
    "knn.fit(X_train, y_train)\n",
    "\n",
    "# Make predictions\n",
    "y_pred = knn.predict(X_test)\n",
    "\n",
    "\n",
    "\n",
    "# Feature columns (adjust these to your dataset)\n",
    "X = df[['sepal_length', 'sepal_width', 'petal_length', 'petal_width']]\n",
    "\n",
    "# Target column (flower species)\n",
    "y = df['species']  # Replace 'species' with the actual column name in your dataset\n",
    "\n",
    "# Split the data into training and testing sets\n",
    "X_train, X_test, y_train, y_test = train_test_split(X, y, test_size=0.2, random_state=42)\n",
    "\n",
    "# Initialize the KNN classifier\n",
    "knn = KNeighborsClassifier(n_neighbors=3)\n",
    "\n",
    "# Train the model\n",
    "knn.fit(X_train, y_train)\n",
    "\n",
    "# Predict on the test set\n",
    "y_pred = knn.predict(X_test)\n",
    "\n",
    "# Evaluate the model\n",
    "accuracy = accuracy_score(y_test, y_pred)\n",
    "print(f\"Model accuracy: {accuracy:.2f}\")\n",
    "\n",
    "# You can now save the model using joblib or pickle for later use\n"
   ]
  },
  {
   "cell_type": "code",
   "execution_count": 13,
   "metadata": {},
   "outputs": [
    {
     "name": "stdout",
     "output_type": "stream",
     "text": [
      "Model accuracy: 1.00\n"
     ]
    }
   ],
   "source": [
    "import pandas as pd\n",
    "\n",
    "# Correct file path based on your directory\n",
    "file_path = 'C:/Users/ViktoriaStutter/Documents/Github/iris_flower_classification/iris_flower_classification/irisdata.txt'\n",
    "\n",
    "# Try loading the dataset (adjust separator if needed)\n",
    "df = pd.read_csv(file_path, sep=',', header=None, names=['sepal_length', 'sepal_width', 'petal_length', 'petal_width', 'species'])\n",
    "\n",
    "\n",
    "\n",
    "# Feature columns (adjust these to your dataset)\n",
    "X = df[['sepal_length', 'sepal_width', 'petal_length', 'petal_width']]\n",
    "\n",
    "# Target column (flower species)\n",
    "y = df['species']  # Replace 'species' with the actual column name in your dataset\n",
    "\n",
    "# Split the data into training and testing sets\n",
    "X_train, X_test, y_train, y_test = train_test_split(X, y, test_size=0.2, random_state=42)\n",
    "\n",
    "# Initialize the KNN classifier\n",
    "knn = KNeighborsClassifier(n_neighbors=3)\n",
    "\n",
    "# Train the model\n",
    "knn.fit(X_train, y_train)\n",
    "\n",
    "# Predict on the test set\n",
    "y_pred = knn.predict(X_test)\n",
    "\n",
    "# Evaluate the model\n",
    "accuracy = accuracy_score(y_test, y_pred)\n",
    "print(f\"Model accuracy: {accuracy:.2f}\")\n",
    "\n",
    "# You can now save the model using joblib or pickle for later use\n"
   ]
  },
  {
   "cell_type": "code",
   "execution_count": 14,
   "metadata": {},
   "outputs": [
    {
     "name": "stdout",
     "output_type": "stream",
     "text": [
      "Decision Tree Model Accuracy: 1.00\n",
      "SVC Model Accuracy: 1.00\n"
     ]
    }
   ],
   "source": [
    "from sklearn.tree import DecisionTreeClassifier\n",
    "from sklearn.svm import SVC\n",
    "\n",
    "# Decision Tree\n",
    "dtree = DecisionTreeClassifier()\n",
    "dtree.fit(X_train, y_train)\n",
    "dtree_pred = dtree.predict(X_test)\n",
    "dtree_accuracy = accuracy_score(y_test, dtree_pred)\n",
    "print(f\"Decision Tree Model Accuracy: {dtree_accuracy:.2f}\")\n",
    "\n",
    "# Support Vector Classifier\n",
    "svc = SVC()\n",
    "svc.fit(X_train, y_train)\n",
    "svc_pred = svc.predict(X_test)\n",
    "svc_accuracy = accuracy_score(y_test, svc_pred)\n",
    "print(f\"SVC Model Accuracy: {svc_accuracy:.2f}\")\n"
   ]
  },
  {
   "cell_type": "code",
   "execution_count": 15,
   "metadata": {},
   "outputs": [
    {
     "name": "stdout",
     "output_type": "stream",
     "text": [
      "Predicted species: ['Iris-virginica' 'Iris-versicolor']\n"
     ]
    },
    {
     "name": "stderr",
     "output_type": "stream",
     "text": [
      "c:\\Users\\ViktoriaStutter\\Documents\\GitHub\\iris_flower_classification\\iris_flower_classification\\antenv\\lib\\site-packages\\sklearn\\base.py:493: UserWarning: X does not have valid feature names, but KNeighborsClassifier was fitted with feature names\n",
      "  warnings.warn(\n"
     ]
    },
    {
     "data": {
      "text/plain": [
       "['iris_knn_model.pkl']"
      ]
     },
     "execution_count": 15,
     "metadata": {},
     "output_type": "execute_result"
    }
   ],
   "source": [
    "import joblib\n",
    "# Predict on new data\n",
    "new_data = [[5.9, 3.0, 5.1, 1.8], [6.7, 3.1, 4.7, 1.5]]\n",
    "predictions = knn.predict(new_data)\n",
    "print(\"Predicted species:\", predictions)\n",
    "\n",
    "# Save the model (optional)\n",
    "joblib.dump(knn, 'iris_knn_model.pkl')"
   ]
  },
  {
   "cell_type": "code",
   "execution_count": 16,
   "metadata": {},
   "outputs": [
    {
     "name": "stdout",
     "output_type": "stream",
     "text": [
      "Predicted species: ['Iris-virginica' 'Iris-versicolor']\n"
     ]
    },
    {
     "name": "stderr",
     "output_type": "stream",
     "text": [
      "c:\\Users\\ViktoriaStutter\\Documents\\GitHub\\iris_flower_classification\\iris_flower_classification\\antenv\\lib\\site-packages\\sklearn\\base.py:493: UserWarning: X does not have valid feature names, but KNeighborsClassifier was fitted with feature names\n",
      "  warnings.warn(\n"
     ]
    },
    {
     "data": {
      "text/plain": [
       "['iris_knn_model.pkl']"
      ]
     },
     "execution_count": 16,
     "metadata": {},
     "output_type": "execute_result"
    }
   ],
   "source": [
    "import joblib\n",
    "# Predict on new data\n",
    "new_data = [[5.9, 3.0, 5.1, 1.8], [6.7, 3.1, 4.7, 1.5]]\n",
    "predictions = knn.predict(new_data)\n",
    "print(\"Predicted species:\", predictions)\n",
    "\n",
    "# Save the model (optional)\n",
    "joblib.dump(knn, 'iris_knn_model.pkl')"
   ]
  },
  {
   "cell_type": "code",
   "execution_count": 17,
   "metadata": {},
   "outputs": [
    {
     "name": "stderr",
     "output_type": "stream",
     "text": [
      "INFO:     Started server process [22216]\n",
      "INFO:     Waiting for application startup.\n",
      "INFO:     Application startup complete.\n",
      "INFO:     Uvicorn running on http://127.0.0.1:8000 (Press CTRL+C to quit)\n"
     ]
    },
    {
     "name": "stdout",
     "output_type": "stream",
     "text": [
      "INFO:     127.0.0.1:54867 - \"GET / HTTP/1.1\" 200 OK\n"
     ]
    },
    {
     "name": "stderr",
     "output_type": "stream",
     "text": [
      "INFO:     Shutting down\n",
      "INFO:     Waiting for application shutdown.\n",
      "INFO:     Application shutdown complete.\n",
      "INFO:     Finished server process [22216]\n"
     ]
    }
   ],
   "source": [
    "import nest_asyncio\n",
    "import joblib\n",
    "import numpy as np\n",
    "from fastapi import FastAPI\n",
    "from pydantic import BaseModel\n",
    "\n",
    "# Apply nest_asyncio to handle nested event loops in Jupyter/IPython environments\n",
    "nest_asyncio.apply()\n",
    "\n",
    "# Load the trained KNN model\n",
    "model = joblib.load('iris_knn_model.pkl')\n",
    "\n",
    "# Define a request body for input data\n",
    "class IrisData(BaseModel):\n",
    "    data: list\n",
    "\n",
    "# Initialize FastAPI app\n",
    "app = FastAPI()\n",
    "\n",
    "# Root route for the base URL\n",
    "@app.get(\"/\")\n",
    "async def root():\n",
    "    return {\"message\": \"Welcome to the Iris Flower Prediction API. Use POST /predict to make predictions.\"}\n",
    "\n",
    "# Predict route for the iris flower prediction\n",
    "@app.post(\"/predict\")\n",
    "async def predict(iris_data: IrisData):\n",
    "    # Extract the data from the request\n",
    "    new_data = np.array(iris_data.data)\n",
    "\n",
    "    # Predict using the loaded model\n",
    "    prediction = model.predict(new_data).tolist()\n",
    "\n",
    "    # Return the prediction as a JSON response\n",
    "    return {\"prediction\": prediction}\n",
    "\n",
    "# Run the FastAPI app with Uvicorn\n",
    "if __name__ == \"__main__\":\n",
    "    import uvicorn\n",
    "    uvicorn.run(app, host=\"127.0.0.1\", port=8000)\n"
   ]
  },
  {
   "cell_type": "code",
   "execution_count": 26,
   "metadata": {},
   "outputs": [],
   "source": [
    "from fastapi import FastAPI\n",
    "\n",
    "# Initialize the FastAPI app\n",
    "app = FastAPI()\n",
    "\n",
    "# Define a simple route for testing\n",
    "@app.get(\"/\")\n",
    "def read_root():\n",
    "    return {\"message\": \"FastAPI is working!\"}\n"
   ]
  }
 ],
 "metadata": {
  "kernelspec": {
   "display_name": "antenv",
   "language": "python",
   "name": "python3"
  },
  "language_info": {
   "codemirror_mode": {
    "name": "ipython",
    "version": 3
   },
   "file_extension": ".py",
   "mimetype": "text/x-python",
   "name": "python",
   "nbconvert_exporter": "python",
   "pygments_lexer": "ipython3",
   "version": "3.10.14"
  }
 },
 "nbformat": 4,
 "nbformat_minor": 2
}
